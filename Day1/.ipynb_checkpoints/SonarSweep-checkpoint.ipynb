{
 "cells": [
  {
   "cell_type": "markdown",
   "id": "progressive-glass",
   "metadata": {},
   "source": [
    "# Day 1: Sonar Sweep"
   ]
  },
  {
   "cell_type": "markdown",
   "id": "abstract-harassment",
   "metadata": {},
   "source": [
    "## Part 1"
   ]
  },
  {
   "cell_type": "code",
   "execution_count": 20,
   "id": "frequent-adventure",
   "metadata": {},
   "outputs": [
    {
     "name": "stdout",
     "output_type": "stream",
     "text": [
      "Result: 1215\n"
     ]
    }
   ],
   "source": [
    "inputFile = open(\"input.txt\")\n",
    "count = 0\n",
    "prevVal = None\n",
    "\n",
    "for line in (iter(inputFile)):\n",
    "    if prevVal is None:\n",
    "        prevVal = int(line)\n",
    "    else:\n",
    "        if int(line) > prevVal:\n",
    "            count += 1\n",
    "            prevVal = int(line)\n",
    "        else:\n",
    "            prevVal = int(line)\n",
    "print(\"Result:\",count)"
   ]
  },
  {
   "cell_type": "markdown",
   "id": "caroline-meditation",
   "metadata": {},
   "source": [
    "## Part 2"
   ]
  },
  {
   "cell_type": "code",
   "execution_count": 21,
   "id": "negative-concord",
   "metadata": {},
   "outputs": [
    {
     "name": "stdout",
     "output_type": "stream",
     "text": [
      "Result: 1150\n"
     ]
    }
   ],
   "source": [
    "with open(\"input.txt\", \"r+\") as inputFile:\n",
    "    lines = inputFile.readlines()\n",
    "    val1 = None\n",
    "    val2 = None\n",
    "    val3 = None\n",
    "    \n",
    "    prevVal = None\n",
    "    count = 0\n",
    "    \n",
    "    count = 0\n",
    "    for index, line in enumerate(lines):\n",
    "        if index == 0:\n",
    "            val1 = int(line)\n",
    "            val2 = int(lines[index + 1])\n",
    "            val3 = int(lines[index + 2])\n",
    "            prevVal = val1 + val2 + val3\n",
    "        elif index < len(lines) - 2:\n",
    "            val1 = val2\n",
    "            val2 = val3\n",
    "            val3 = int(lines[index + 2])\n",
    "            if val1+val2+val3 > prevVal:\n",
    "                count += 1\n",
    "                prevVal = val1 + val2 + val3\n",
    "            else:\n",
    "                prevVal = val1 + val2 + val3\n",
    "    print(\"Result:\",count)"
   ]
  }
 ],
 "metadata": {
  "kernelspec": {
   "display_name": "Python 3",
   "language": "python",
   "name": "python3"
  },
  "language_info": {
   "codemirror_mode": {
    "name": "ipython",
    "version": 3
   },
   "file_extension": ".py",
   "mimetype": "text/x-python",
   "name": "python",
   "nbconvert_exporter": "python",
   "pygments_lexer": "ipython3",
   "version": "3.9.7"
  }
 },
 "nbformat": 4,
 "nbformat_minor": 5
}
