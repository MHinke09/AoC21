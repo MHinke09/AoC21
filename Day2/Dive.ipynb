{
 "cells": [
  {
   "cell_type": "markdown",
   "id": "tribal-lender",
   "metadata": {},
   "source": [
    "# Day 2: Dive"
   ]
  },
  {
   "cell_type": "markdown",
   "id": "stone-outline",
   "metadata": {},
   "source": [
    "## Part 1"
   ]
  },
  {
   "cell_type": "code",
   "execution_count": 1,
   "id": "alternate-windows",
   "metadata": {},
   "outputs": [
    {
     "name": "stdout",
     "output_type": "stream",
     "text": [
      "Horizontal Position: 2083\n",
      "Depth: 955\n",
      "Result: 1989265\n"
     ]
    }
   ],
   "source": [
    "with open(\"input.txt\", \"r+\") as inputFile:\n",
    "    lines = inputFile.readlines()\n",
    "    horz = 0\n",
    "    vert = 0\n",
    "\n",
    "    for index, line in enumerate(lines):\n",
    "        values = line.split()\n",
    "        if values[0] == \"forward\":\n",
    "            horz += int(values[1])\n",
    "        elif values[0] == \"down\":\n",
    "            vert += int(values[1])\n",
    "        else:\n",
    "            vert -= int(values[1])\n",
    "            \n",
    "    print(\"Horizontal Position:\",horz)\n",
    "    print(\"Depth:\",vert)\n",
    "    print(\"Result:\", horz*vert)"
   ]
  },
  {
   "cell_type": "markdown",
   "id": "identical-still",
   "metadata": {},
   "source": [
    "## Part 2"
   ]
  },
  {
   "cell_type": "code",
   "execution_count": 2,
   "id": "pacific-workstation",
   "metadata": {},
   "outputs": [
    {
     "name": "stdout",
     "output_type": "stream",
     "text": [
      "Horizontal Position: 2083\n",
      "Depth: 1002964\n",
      "Aim: 955\n",
      "Result: 2089174012\n"
     ]
    }
   ],
   "source": [
    "with open(\"input.txt\", \"r+\") as inputFile:\n",
    "    lines = inputFile.readlines()\n",
    "    horz = 0\n",
    "    vert = 0\n",
    "    aim = 0\n",
    "\n",
    "    for index, line in enumerate(lines):\n",
    "        values = line.split()\n",
    "        if values[0] == \"forward\":\n",
    "            horz += int(values[1])\n",
    "            vert += int(values[1]) * aim\n",
    "        elif values[0] == \"down\":\n",
    "            aim += int(values[1])\n",
    "        else:\n",
    "            aim -= int(values[1])\n",
    "            \n",
    "    print(\"Horizontal Position:\",horz)\n",
    "    print(\"Depth:\",vert)\n",
    "    print(\"Aim:\",aim)\n",
    "    print(\"Result:\", horz*vert)"
   ]
  }
 ],
 "metadata": {
  "kernelspec": {
   "display_name": "Python 3",
   "language": "python",
   "name": "python3"
  },
  "language_info": {
   "codemirror_mode": {
    "name": "ipython",
    "version": 3
   },
   "file_extension": ".py",
   "mimetype": "text/x-python",
   "name": "python",
   "nbconvert_exporter": "python",
   "pygments_lexer": "ipython3",
   "version": "3.9.7"
  }
 },
 "nbformat": 4,
 "nbformat_minor": 5
}
